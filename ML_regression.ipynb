{
 "cells": [
  {
   "cell_type": "markdown",
   "id": "3ecc68d5",
   "metadata": {},
   "source": [
    "Linear regression training"
   ]
  },
  {
   "cell_type": "markdown",
   "id": "4b0c4ac6",
   "metadata": {},
   "source": [
    "To train regression model we need input data and output data"
   ]
  },
  {
   "cell_type": "markdown",
   "id": "3e757a84",
   "metadata": {},
   "source": [
    "Output data means - that is predicted based on the input data"
   ]
  },
  {
   "cell_type": "markdown",
   "id": "8746f526",
   "metadata": {},
   "source": [
    "Lets create input data"
   ]
  },
  {
   "cell_type": "code",
   "execution_count": 19,
   "id": "f776d436",
   "metadata": {},
   "outputs": [],
   "source": [
    "# import some library\n",
    "import numpy as np\n",
    "\n",
    "# numpy is the library used to process number"
   ]
  },
  {
   "cell_type": "code",
   "execution_count": 20,
   "id": "33118425",
   "metadata": {},
   "outputs": [],
   "source": [
    "# generate an array of data - input data\n",
    "X = np.array([[1, 1], [1, 2], [2, 2], [2, 3]])"
   ]
  },
  {
   "cell_type": "code",
   "execution_count": 21,
   "id": "65d44b57",
   "metadata": {},
   "outputs": [
    {
     "data": {
      "text/plain": [
       "array([[1, 1],\n",
       "       [1, 2],\n",
       "       [2, 2],\n",
       "       [2, 3]])"
      ]
     },
     "execution_count": 21,
     "metadata": {},
     "output_type": "execute_result"
    }
   ],
   "source": [
    "# See the input data\n",
    "X"
   ]
  },
  {
   "cell_type": "code",
   "execution_count": 22,
   "id": "d2c21f09",
   "metadata": {},
   "outputs": [],
   "source": [
    "# generate output data\n",
    "y = np.dot(X, np.array([1, 2])) + 3"
   ]
  },
  {
   "cell_type": "code",
   "execution_count": 23,
   "id": "bc3750e5",
   "metadata": {},
   "outputs": [
    {
     "data": {
      "text/plain": [
       "array([ 6,  8,  9, 11])"
      ]
     },
     "execution_count": 23,
     "metadata": {},
     "output_type": "execute_result"
    }
   ],
   "source": [
    "# See the output data\n",
    "y"
   ]
  },
  {
   "attachments": {
    "image.png": {
     "image/png": "[encoded data removed]"
    }
   },
   "cell_type": "markdown",
   "id": "3ac35303",
   "metadata": {},
   "source": [
    "![image.png](attachment:image.png)"
   ]
  },
  {
   "cell_type": "markdown",
   "id": "18a26903",
   "metadata": {},
   "source": [
    "What does the data mean?\n",
    "\n"
   ]
  },
  {
   "cell_type": "markdown",
   "id": "b6278056",
   "metadata": {},
   "source": [
    "when x1 = 1, x2= 1, then y = 6\n"
   ]
  },
  {
   "cell_type": "markdown",
   "id": "370dabf5",
   "metadata": {},
   "source": [
    "when x1 = 1, x2= 2, then y = 8"
   ]
  },
  {
   "cell_type": "markdown",
   "id": "7bce7abf",
   "metadata": {},
   "source": [
    "when x1 = 2, x2= 2, then y = 9"
   ]
  },
  {
   "cell_type": "markdown",
   "id": "04efe58b",
   "metadata": {},
   "source": [
    "when x1 = 2, x2= 3, then y = 11"
   ]
  },
  {
   "cell_type": "markdown",
   "id": "d6bbf2f3",
   "metadata": {},
   "source": [
    "# How can we train a regression model using python?"
   ]
  },
  {
   "cell_type": "markdown",
   "id": "41e43dfa",
   "metadata": {},
   "source": [
    "Model means - a equaiton as follows that can predict y given x1 and x2 \n"
   ]
  },
  {
   "cell_type": "markdown",
   "id": "db687fa3",
   "metadata": {},
   "source": [
    "y = a * x1 + b * x2 + c"
   ]
  },
  {
   "cell_type": "markdown",
   "id": "a57be180",
   "metadata": {},
   "source": [
    "Training a model means find the appropriate values for parameters a, b and c"
   ]
  },
  {
   "cell_type": "markdown",
   "id": "f7abbe8c",
   "metadata": {},
   "source": [
    "### sklearn is a package on machine leanring models"
   ]
  },
  {
   "cell_type": "markdown",
   "id": "74f548d5",
   "metadata": {},
   "source": [
    "It has a class - LinearRegression that handles the linear regression models"
   ]
  },
  {
   "cell_type": "code",
   "execution_count": 24,
   "id": "45f63e27",
   "metadata": {},
   "outputs": [],
   "source": [
    "# import that LinearRegression class\n",
    "from sklearn.linear_model import LinearRegression"
   ]
  },
  {
   "cell_type": "markdown",
   "id": "dbea4efc",
   "metadata": {},
   "source": [
    "### Now train the model"
   ]
  },
  {
   "cell_type": "code",
   "execution_count": 25,
   "id": "8d727920",
   "metadata": {},
   "outputs": [],
   "source": [
    "# fit() is a function that trains the model. It needs input data and outdata. We put X and y \n",
    "m = LinearRegression().fit(X, y)"
   ]
  },
  {
   "cell_type": "markdown",
   "id": "018d28b8",
   "metadata": {},
   "source": [
    "Above code generates a regression model. The above m has an equation inside it."
   ]
  },
  {
   "cell_type": "markdown",
   "id": "d02ed5d7",
   "metadata": {},
   "source": [
    "### Now use the model m to predict a value"
   ]
  },
  {
   "cell_type": "markdown",
   "id": "b1231744",
   "metadata": {},
   "source": [
    "lets the input are x1 = 2, x2 = 3"
   ]
  },
  {
   "cell_type": "code",
   "execution_count": 26,
   "id": "a0fe31aa",
   "metadata": {},
   "outputs": [
    {
     "data": {
      "text/plain": [
       "array([11.])"
      ]
     },
     "execution_count": 26,
     "metadata": {},
     "output_type": "execute_result"
    }
   ],
   "source": [
    "# now use m to pedict\n",
    "m.predict(np.array([[2, 3]]))"
   ]
  },
  {
   "cell_type": "markdown",
   "id": "25e5ca8d",
   "metadata": {},
   "source": [
    "The result is 11. That means y =11"
   ]
  },
  {
   "cell_type": "markdown",
   "id": "f023ab6c",
   "metadata": {},
   "source": [
    "See the following data. The prediction is correct"
   ]
  },
  {
   "attachments": {
    "image.png": {
     "image/png": "[encoded data removed]"
    }
   },
   "cell_type": "markdown",
   "id": "ab04e02a",
   "metadata": {},
   "source": [
    "![image.png](attachment:image.png)"
   ]
  },
  {
   "cell_type": "code",
   "execution_count": null,
   "id": "b8788815",
   "metadata": {},
   "outputs": [],
   "source": []
  }
 ],
 "metadata": {
  "kernelspec": {
   "display_name": "Python 3",
   "language": "python",
   "name": "python3"
  },
  "language_info": {
   "codemirror_mode": {
    "name": "ipython",
    "version": 3
   },
   "file_extension": ".py",
   "mimetype": "text/x-python",
   "name": "python",
   "nbconvert_exporter": "python",
   "pygments_lexer": "ipython3",
   "version": "3.8.8"
  }
 },
 "nbformat": 4,
 "nbformat_minor": 5
}
